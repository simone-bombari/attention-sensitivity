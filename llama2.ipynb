{
 "cells": [
  {
   "cell_type": "code",
   "execution_count": 1,
   "id": "3f106429-5c8a-4490-ac58-a3fd72082fd0",
   "metadata": {},
   "outputs": [
    {
     "name": "stdout",
     "output_type": "stream",
     "text": [
      "True\n"
     ]
    }
   ],
   "source": [
    "from transformers import AutoTokenizer\n",
    "import transformers\n",
    "import torch\n",
    "\n",
    "print(torch.cuda.is_available())"
   ]
  },
  {
   "cell_type": "code",
   "execution_count": 2,
   "id": "e5e54073-cb79-4366-8f06-a1f929f69a36",
   "metadata": {},
   "outputs": [],
   "source": [
    "model = \"../Llama-2-7b-chat-hf\"\n",
    "tokenizer = AutoTokenizer.from_pretrained(model)"
   ]
  },
  {
   "cell_type": "code",
   "execution_count": 3,
   "id": "ea429a15-24ed-4f32-8a21-005190eff97d",
   "metadata": {},
   "outputs": [
    {
     "data": {
      "application/vnd.jupyter.widget-view+json": {
       "model_id": "2b76876235624b749f2204500eadeee0",
       "version_major": 2,
       "version_minor": 0
      },
      "text/plain": [
       "Loading checkpoint shards:   0%|          | 0/2 [00:00<?, ?it/s]"
      ]
     },
     "metadata": {},
     "output_type": "display_data"
    }
   ],
   "source": [
    "pipeline = transformers.pipeline(\n",
    "    \"text-generation\",\n",
    "    model=model,\n",
    "    torch_dtype=torch.float16,\n",
    "    device_map=\"auto\",\n",
    ")"
   ]
  },
  {
   "cell_type": "code",
   "execution_count": 4,
   "id": "c8b29dbf-a327-40c8-a6ac-ee8b5e090e30",
   "metadata": {},
   "outputs": [],
   "source": [
    "short_review = 'Sorry, gave it a 1, which is the rating I give to movies on which I walk out or fall asleep.'"
   ]
  },
  {
   "cell_type": "code",
   "execution_count": 5,
   "id": "ab074d62-8edb-44d3-a46c-36588e9db1a2",
   "metadata": {},
   "outputs": [],
   "source": [
    "prompt = f'''<s>[INST]<<SYS>>Reply with \"Yes\" if the review I will provide you is positive, and \"No\" otherwise.<</SYS>>\n",
    "\n",
    "Review:\n",
    "\n",
    "{short_review}\n",
    "\n",
    "[/INST]'''\n",
    "\n",
    "sequences = pipeline(\n",
    "    prompt,\n",
    "    do_sample=True,\n",
    "    top_k=1,\n",
    "    num_return_sequences=1,\n",
    "    eos_token_id=tokenizer.eos_token_id,\n",
    "    max_length=1024,\n",
    ")"
   ]
  },
  {
   "cell_type": "code",
   "execution_count": 6,
   "id": "5dfa6f97-dadd-424d-89a6-871c6a884aca",
   "metadata": {},
   "outputs": [
    {
     "name": "stdout",
     "output_type": "stream",
     "text": [
      "Result: <s>[INST]<<SYS>>Reply with \"Yes\" if the review I will provide you is positive, and \"No\" otherwise.<</SYS>>\n",
      "\n",
      "Review:\n",
      "\n",
      "Sorry, gave it a 1, which is the rating I give to movies on which I walk out or fall asleep.\n",
      "\n",
      "[/INST]  No\n"
     ]
    }
   ],
   "source": [
    "for seq in sequences:\n",
    "    print(f\"Result: {seq['generated_text']}\")"
   ]
  },
  {
   "cell_type": "code",
   "execution_count": 7,
   "id": "8dfa7809-f014-41a7-979c-ae503cca92fc",
   "metadata": {},
   "outputs": [],
   "source": [
    "prompt = f'''<s>[INST]<<SYS>>Reply with \"Yes\" if the review I will provide you is negative, and \"No\" otherwise.<</SYS>>\n",
    "\n",
    "Review:\n",
    "\n",
    "{short_review}\n",
    "\n",
    "[/INST]'''\n",
    "\n",
    "sequences = pipeline(\n",
    "    prompt,\n",
    "    do_sample=True,\n",
    "    top_k=1,\n",
    "    num_return_sequences=1,\n",
    "    eos_token_id=tokenizer.eos_token_id,\n",
    "    max_length=1024,\n",
    ")"
   ]
  },
  {
   "cell_type": "code",
   "execution_count": 8,
   "id": "4ea4c8e1-eca4-4478-b78a-b223a47e808e",
   "metadata": {},
   "outputs": [
    {
     "name": "stdout",
     "output_type": "stream",
     "text": [
      "Result: <s>[INST]<<SYS>>Reply with \"Yes\" if the review I will provide you is negative, and \"No\" otherwise.<</SYS>>\n",
      "\n",
      "Review:\n",
      "\n",
      "Sorry, gave it a 1, which is the rating I give to movies on which I walk out or fall asleep.\n",
      "\n",
      "[/INST]  Yes\n"
     ]
    }
   ],
   "source": [
    "for seq in sequences:\n",
    "    print(f\"Result: {seq['generated_text']}\")"
   ]
  },
  {
   "cell_type": "code",
   "execution_count": null,
   "id": "82808bbc-98e5-4d97-acdc-df44ab8fc473",
   "metadata": {},
   "outputs": [],
   "source": []
  }
 ],
 "metadata": {
  "kernelspec": {
   "display_name": "venv",
   "language": "python",
   "name": "venv"
  },
  "language_info": {
   "codemirror_mode": {
    "name": "ipython",
    "version": 3
   },
   "file_extension": ".py",
   "mimetype": "text/x-python",
   "name": "python",
   "nbconvert_exporter": "python",
   "pygments_lexer": "ipython3",
   "version": "3.9.2"
  }
 },
 "nbformat": 4,
 "nbformat_minor": 5
}
